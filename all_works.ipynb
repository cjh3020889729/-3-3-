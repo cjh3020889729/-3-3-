{
 "cells": [
  {
   "cell_type": "markdown",
   "metadata": {
    "collapsed": false
   },
   "source": [
    "# 赛题分析简要说明\n",
    "\n",
    "**目的：构建指定量子的量子电路求解最优门的$\\theta$值**\n",
    "\n",
    "## 赛题模型搭建的依赖(可在cpu上运行)\n",
    "\n",
    "\n",
    "* `paddlepaddle-gpu==2.0.1`\n",
    "\n",
    "* `openfermion==0.11.0`\n",
    "\n",
    "* `openfermionpyscf==0.4`\n",
    "\n",
    "* `paddle-quantum` ：专注与量子计算--[量桨入门](https://qml.baidu.com/quick-start/overview.html)\n",
    "\n",
    "* `numpy`\n",
    "\n",
    "* `visualdl`\n",
    "\n",
    "* `os`\n",
    "\n",
    "* `tqdm`\n",
    "   \n",
    "## 赛题解答核心\n",
    "\n",
    "利用量桨的优势，结合paddle的反向传播优化机制快速搭建量子电路优化。\n",
    "    \n",
    "**模型构建思路：**\n",
    "\n",
    "   \t        1. 设置量子数目，根据量子数目构建量子电路模块--量子数目决定量子电路的输入端个数\n",
    "\n",
    "            2. 【2-3可交换顺序】设置theta参数形状，从而确定电路过程中y门需要优化的参数$\\theta$\n",
    "\n",
    "            3. 上一步之前可以先配置量子电路网络后再确定其中theta的参数形状\n",
    "\n",
    "            4. 构建优化网络部分，将theta的形状传入网络中，从而生成可优化参数--通过paddle的优势进行优化【这一步之前需要设计优化损失，自定义——但要根据反向优化的最小值求解为基础设计损失函数，避免优化错误】\n",
    "\n",
    "            5. 创建优化器Adam、学习率等\n",
    "\n",
    "            6. 迭代优化，记录theta参数与loss曲线\n",
    "\n",
    "            7. 根据问题公式评估得分\n",
    "\n",
    "            8. 保存训练后所需的theta值\n",
    "            \n",
    "**损失函数构建思路：**\n",
    "\n",
    "\t利用paddle的最小化优化方法，与优化参数矩阵与目标矩阵的最大相似结合:\n",
    "    \n",
    "    \n",
    "    \t\t\t\t\t\t\t\t\t\t\t创建目标函数: loss = 1 - 相似矩阵求解的值  or  loss = - 相似矩阵求解的值\n",
    "\n",
    "\n",
    "**问题求解说明：**\n",
    "\n",
    "1. 问题1：无直接的数据集比对，对给定量子电路，所以只需对应搭建y门电路即可\n",
    "2. 问题2，3：对给定的电路进行theta优化，然后与直接的数据集中的数据进行比对，得到得分\n",
    "3. 问题4、5：均参考paddle-quantum的内置若纠错网络结构进行构建电路，实现简单网络求解\n",
    "   \n",
    "                说明：\n",
    "                在问题4中，对弱纠缠网络进行展开成y门进行逐一搭建\n",
    "                在问题5中，对弱纠缠网络的组件网络进行展开——其源码可参考quantum的real_block_layer\n",
    "\n",
    "以上网络求解不超过30秒\n",
    "\n",
    "4. 问题6：简单用单一的弱纠缠网络与强纠缠网络搭建求解电路暂未能解决问题，所以需要未来做一点其它的尝试进行求解（当前未完成）"
   ]
  },
  {
   "cell_type": "markdown",
   "metadata": {
    "collapsed": false
   },
   "source": [
    "# 赛题解答流程\n",
    "\n",
    "根据一下notebook流程可直接运行——\n",
    "\n",
    "1. 依赖下载\n",
    "   \n",
    "2. 解压数据\n",
    "   \n",
    "3. 问题逐次求解\n",
    "   \n",
    "4. 保存求解结果到zip\n",
    "\n",
    "5. 可视化vdl，自行展示即可--当前目录下有训练的记录过程\n",
    "\n",
    "依次为1-5的优化过程:\n",
    "\n",
    "![alt quest1](logs_show/train_loss1.png) quest1\n",
    "![alt quest2](logs_show/train_loss2.png) quest2\n",
    "![alt quest3](logs_show/train_loss3.png) quest3\n",
    "![alt quest4](logs_show/train_loss4.png) quest4\n",
    "![alt quest5](logs_show/train_loss5.png) quest5"
   ]
  },
  {
   "cell_type": "code",
   "execution_count": null,
   "metadata": {
    "collapsed": false
   },
   "outputs": [],
   "source": [
    "# 下载必要的依赖\r\n",
    "!python -m pip install -r work/requirements.txt"
   ]
  },
  {
   "cell_type": "code",
   "execution_count": null,
   "metadata": {
    "collapsed": false
   },
   "outputs": [],
   "source": [
    "# 解压数据当前目录\r\n",
    "!unzip -oq /home/aistudio/data/data71784/飞桨常规赛：量子电路合成.zip\r\n",
    "\r\n",
    "# 创建提交文件的文件根目录\r\n",
    "import os\r\n",
    "os.mkdir('Anwser')"
   ]
  },
  {
   "cell_type": "code",
   "execution_count": null,
   "metadata": {
    "collapsed": false
   },
   "outputs": [],
   "source": [
    "# 问题1解答-保存结果-vdl显示\r\n",
    "!python work/quest1.py"
   ]
  },
  {
   "cell_type": "code",
   "execution_count": 78,
   "metadata": {
    "collapsed": false
   },
   "outputs": [],
   "source": [
    "# 问题2解答-保存结果-vdl显示\r\n",
    "!python work/quest2.py"
   ]
  },
  {
   "cell_type": "code",
   "execution_count": null,
   "metadata": {
    "collapsed": false
   },
   "outputs": [],
   "source": [
    "# 问题3解答-保存结果-vdl显示\r\n",
    "!python work/quest3.py"
   ]
  },
  {
   "cell_type": "code",
   "execution_count": null,
   "metadata": {
    "collapsed": false
   },
   "outputs": [],
   "source": [
    "# 问题4解答-保存结果-vdl显示\r\n",
    "!python work/quest4.py"
   ]
  },
  {
   "cell_type": "code",
   "execution_count": null,
   "metadata": {
    "collapsed": false
   },
   "outputs": [],
   "source": [
    "# 问题5解答-保存结果-vdl显示\r\n",
    "!python work/quest5.py"
   ]
  },
  {
   "cell_type": "code",
   "execution_count": null,
   "metadata": {
    "collapsed": false
   },
   "outputs": [],
   "source": [
    "# 问题6未能解答-保存结果-vdl显示\r\n",
    "!python work/quest6.py"
   ]
  },
  {
   "cell_type": "code",
   "execution_count": 69,
   "metadata": {
    "collapsed": false
   },
   "outputs": [],
   "source": [
    "# 保存赛题提交文件\r\n",
    "!zip -r Answer.zip Anwser"
   ]
  }
 ],
 "metadata": {
  "kernelspec": {
   "display_name": "PaddlePaddle 2.0.0b0 (Python 3.5)",
   "language": "python",
   "name": "py35-paddle1.2.0"
  },
  "language_info": {
   "codemirror_mode": {
    "name": "ipython",
    "version": 3
   },
   "file_extension": ".py",
   "mimetype": "text/x-python",
   "name": "python",
   "nbconvert_exporter": "python",
   "pygments_lexer": "ipython3",
   "version": "3.7.4"
  }
 },
 "nbformat": 4,
 "nbformat_minor": 1
}
